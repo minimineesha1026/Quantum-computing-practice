{
 "cells": [
  {
   "cell_type": "code",
   "execution_count": 4,
   "id": "87bee744",
   "metadata": {},
   "outputs": [
    {
     "name": "stdout",
     "output_type": "stream",
     "text": [
      "Using matplotlib backend: QtAgg\n",
      "Using matplotlib backend: QtAgg\n",
      "The marked state is 111\n"
     ]
    }
   ],
   "source": [
    "from qiskit import QuantumCircuit, ClassicalRegister, QuantumRegister, Aer, execute\n",
    "  \n",
    "# Define the black box function\n",
    "  \n",
    "  \n",
    "def oracle(circuit, register, marked_state):\n",
    "    for i in range(len(marked_state)):\n",
    "        if marked_state[i] == '1':\n",
    "            circuit.x(register[i])\n",
    "    circuit.cz(register[0], register[1])\n",
    "    for i in range(len(marked_state)):\n",
    "        if marked_state[i] == '1':\n",
    "            circuit.x(register[i])\n",
    "  \n",
    "# Define the Grover diffusion operator\n",
    "  \n",
    "  \n",
    "def grover_diffusion(circuit, register):\n",
    "    circuit.h(register)\n",
    "    circuit.x(register)\n",
    "    circuit.h(register[1])\n",
    "    circuit.cx(register[0], register[1])\n",
    "    circuit.h(register[1])\n",
    "    circuit.x(register)\n",
    "    circuit.h(register)\n",
    "  \n",
    "# Define the Grover algorithm\n",
    "  \n",
    "  \n",
    "def grover(marked_state):\n",
    "  \n",
    "    # Initialize a quantum register\n",
    "    # of n qubits\n",
    "    n = len(marked_state)\n",
    "    qr = QuantumRegister(n)\n",
    "    cr = ClassicalRegister(n)\n",
    "    circuit = QuantumCircuit(qr, cr)\n",
    "    \n",
    "    # Apply the Hadamard gate\n",
    "    # to each qubit\n",
    "    circuit.h(qr)\n",
    "    %matplotlib\n",
    "    circuit.draw(output = \"mpl\")\n",
    "    # Repeat the following procedure\n",
    "    # O(sqrt(2 ^ n)) times\n",
    "    num_iterations = int(round((2 ** n) ** 0.5))\n",
    "    for i in range(num_iterations):\n",
    "        # Apply the black box function f\n",
    "        # to the current state to mark\n",
    "        # the solution\n",
    "        oracle(circuit, qr, marked_state)\n",
    "  \n",
    "        # Apply the Grover diffusion\n",
    "        # operator to amplify the amplitude\n",
    "        # of the marked solution\n",
    "        grover_diffusion(circuit, qr)\n",
    "  \n",
    "    # Measure the state to obtain\n",
    "    # a solution x\n",
    "    circuit.measure(qr, cr)\n",
    "    %matplotlib\n",
    "    circuit.draw(output = \"mpl\")\n",
    "    # Run the circuit on a simulator\n",
    "    backend = Aer.get_backend('qasm_simulator')\n",
    "    job = execute(circuit, backend, shots = 1)\n",
    "    result = job.result()\n",
    "    counts = result.get_counts()\n",
    "    x = list(counts.keys())[0]\n",
    "  \n",
    "    return x\n",
    "  \n",
    "  \n",
    "# Test the Grover algorithm\n",
    "marked_state = '101'\n",
    "result = grover(marked_state)\n",
    "print(f\"The marked state is {result}\")"
   ]
  },
  {
   "cell_type": "code",
   "execution_count": 34,
   "id": "8053f52d",
   "metadata": {},
   "outputs": [
    {
     "data": {
      "text/html": [
       "<pre style=\"word-wrap: normal;white-space: pre;background: #fff0;line-height: 1.1;font-family: &quot;Courier New&quot;,Courier,monospace\">   ┌─┐\n",
       "q: ┤M├\n",
       "   └╥┘\n",
       "c: ═╩═\n",
       "      </pre>"
      ],
      "text/plain": [
       "   ┌─┐\n",
       "q: ┤M├\n",
       "   └╥┘\n",
       "c: ═╩═\n",
       "      "
      ]
     },
     "execution_count": 34,
     "metadata": {},
     "output_type": "execute_result"
    }
   ],
   "source": []
  },
  {
   "cell_type": "code",
   "execution_count": 35,
   "id": "b782a0b6",
   "metadata": {},
   "outputs": [
    {
     "name": "stdout",
     "output_type": "stream",
     "text": [
      "Using matplotlib backend: QtAgg\n"
     ]
    },
    {
     "data": {
      "image/png": "[encoded data removed]",
      "text/plain": [
       "<Figure size 370x400 with 1 Axes>"
      ]
     },
     "execution_count": 35,
     "metadata": {},
     "output_type": "execute_result"
    }
   ],
   "source": []
  },
  {
   "cell_type": "code",
   "execution_count": null,
   "id": "db94923d",
   "metadata": {},
   "outputs": [],
   "source": []
  },
  {
   "cell_type": "code",
   "execution_count": null,
   "id": "44d84d73",
   "metadata": {},
   "outputs": [],
   "source": []
  }
 ],
 "metadata": {
  "kernelspec": {
   "display_name": "Python 3 (ipykernel)",
   "language": "python",
   "name": "python3"
  },
  "language_info": {
   "codemirror_mode": {
    "name": "ipython",
    "version": 3
   },
   "file_extension": ".py",
   "mimetype": "text/x-python",
   "name": "python",
   "nbconvert_exporter": "python",
   "pygments_lexer": "ipython3",
   "version": "3.9.13"
  }
 },
 "nbformat": 4,
 "nbformat_minor": 5
}
